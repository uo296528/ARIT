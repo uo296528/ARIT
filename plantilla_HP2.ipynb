{
 "cells": [
  {
   "cell_type": "markdown",
   "id": "d32ad051",
   "metadata": {},
   "source": [
    "# Ejercicio: Fragmentador de capítulos en un documento\n",
    "\n",
    "Define extensiones personalizadas para los objetos `Span` y `Doc`:\n",
    "\n",
    "- Cada `Span` (capítulo) debe tener:\n",
    "  - Su número (`numero`)\n",
    "  - Su título (`titulo`)\n",
    "  - Su longitud en tokens (`longitud`)\n",
    "\n",
    "- El objeto `Doc` debe tener:\n",
    "  - Una lista de todos los capítulos (`capitulos`)\n",
    "\n",
    "Crea un componente personalizado para añadir luego al pipeline, llamado `fragmentador_capitulos` que:\n",
    "\n",
    "- Reciba un `Doc`\n",
    "- Busque los capítulos utilizando una expresión regular, donde cada capítulo esté definido por un número seguido de su título.\n",
    "- Cree un `Span` para cada capítulo con los atributos personalizados definidos.\n",
    "- Guarde la lista de capítulos en el atributo `doc._.capitulos`."
   ]
  },
  {
   "cell_type": "code",
   "execution_count": null,
   "id": "8174e52c",
   "metadata": {
    "vscode": {
     "languageId": "plaintext"
    }
   },
   "outputs": [],
   "source": []
  },
  {
   "cell_type": "markdown",
   "id": "7535d412",
   "metadata": {},
   "source": [
    "# Ejercicio: Segmentación en capítulos del tercer libro de Harry Potter"
   ]
  },
  {
   "cell_type": "markdown",
   "id": "e297823c",
   "metadata": {},
   "source": [
    "- Define la variable `nlp` con el modelo `es_core_news_md`.\n",
    "- Añade el componente que has definirdo al pipeline de spaCy. Respecto a este pipeline, en el resto de esta notebook no será necesario utilizar el NER predefinido, ya que nuestro interés será detectar otro tipo de entidades que nosotros mismos vamos a definir. \n",
    "- Carga el tercer libro de Harry Potter a Partir de la línea 37. \n",
    "- Procesa el texto del tercer libro de Harry Potter con `nlp`, y comprueba que el `Doc` resultante contenga todos los capítulos segmentados y anotados correctamente."
   ]
  },
  {
   "cell_type": "code",
   "execution_count": null,
   "id": "59745c7e",
   "metadata": {
    "vscode": {
     "languageId": "plaintext"
    }
   },
   "outputs": [],
   "source": []
  },
  {
   "cell_type": "markdown",
   "id": "2c9303d2",
   "metadata": {},
   "source": [
    "## Ejercicio: Detectar hechizos y añadirlos como entidades\n",
    "\n",
    "Utilizando el objeto `PhraseMatcher` de spaCy, crea un sistema que detecte menciones de hechizos en un texto y los añada como nuevas entidades. Utiliza la siguiente lista de hechizos:\n",
    "\n",
    "`hechizos = [\"Expeliarmo\", \"Alohomora\", \"Expecto patronum\", \"Lumos\"]`\n",
    "\n",
    "Realiza este ejercicio de dos formas diferentes y razona qué está ocurriendo. \n",
    "\n",
    "1. Con el `texto` del tercer libro cargado tal cual\n",
    "2. Haciendo la modificación `texto = texto.replace(\"\", \" \").replace(\"\\x97\", \" \")` después de cargar el tercer libro.\n"
   ]
  },
  {
   "cell_type": "code",
   "execution_count": null,
   "id": "7e6fe2dc",
   "metadata": {
    "vscode": {
     "languageId": "plaintext"
    }
   },
   "outputs": [],
   "source": []
  }
 ],
 "metadata": {
  "language_info": {
   "name": "python"
  }
 },
 "nbformat": 4,
 "nbformat_minor": 5
}
